{
 "cells": [
  {
   "cell_type": "markdown",
   "id": "89613f27-a847-4fbb-b3c1-d7dea25ecbd4",
   "metadata": {},
   "source": [
    "# Comparing data loading speeds with `kvikIO` and `Zarr` engine\n",
    "\n",
    "Benchmark details:\n",
    "- Loading a 1 year subset of the WeatherBench2 (~18.2GB)\n",
    "- Calculate median time to load entire dataset in 23 mini-batches (of batch size 32),\n",
    "  across 10 epochs."
   ]
  },
  {
   "cell_type": "code",
   "execution_count": 1,
   "id": "b553b3d2-71ac-44e7-b6e4-da564bfdaf5e",
   "metadata": {},
   "outputs": [],
   "source": [
    "import importlib\n",
    "import time\n",
    "\n",
    "import lightning as L\n",
    "import numpy as np\n",
    "import pandas as pd\n",
    "import seaborn as sns\n",
    "import torch\n",
    "from tqdm.auto import tqdm, trange\n",
    "\n",
    "module = importlib.import_module(name=\"1_benchmark_kvikIOzarr\")"
   ]
  },
  {
   "cell_type": "code",
   "execution_count": 2,
   "id": "53799aa7-3da5-49d3-a152-cc07cf82fedd",
   "metadata": {},
   "outputs": [],
   "source": [
    "# Empty dataframe to store results\n",
    "df = pd.DataFrame()\n",
    "# Optimize torch performance\n",
    "torch.set_float32_matmul_precision(precision=\"medium\")"
   ]
  },
  {
   "cell_type": "code",
   "execution_count": 3,
   "id": "4b36c1a7-8dd3-439a-9689-533f1eaa5960",
   "metadata": {},
   "outputs": [],
   "source": [
    "# Training loop data loading function\n",
    "def training_loop(train_dataloader) -> list[float]:\n",
    "    epoch_timings: list = []\n",
    "    for epoch in trange(10):\n",
    "        # Start timing\n",
    "        tic: float = time.perf_counter()\n",
    "\n",
    "        # Mini-batch processing\n",
    "        for i, batch in tqdm(iterable=enumerate(train_dataloader), total=23):\n",
    "            input, target, metadata = batch\n",
    "            # Compute Mean Squared Error loss between t=0 and t=1, just for fun\n",
    "            loss: torch.Tensor = torch.functional.F.mse_loss(input=input, target=target)\n",
    "            # print(f\"Batch {i}, MSE Loss: {loss}\")\n",
    "\n",
    "        # Stop timing\n",
    "        toc: float = time.perf_counter()\n",
    "        epoch_timings.append(toc - tic)\n",
    "    return epoch_timings"
   ]
  },
  {
   "cell_type": "markdown",
   "id": "01793895-d093-4098-b793-fd333ed0e31c",
   "metadata": {},
   "source": [
    "## kvikIO engine"
   ]
  },
  {
   "cell_type": "code",
   "execution_count": 4,
   "id": "867ada60-17cf-4fec-84c3-55ef6a727f79",
   "metadata": {},
   "outputs": [
    {
     "name": "stdout",
     "output_type": "stream",
     "text": [
      "Loading data using kvikio engine\n"
     ]
    }
   ],
   "source": [
    "# Setup data\n",
    "datamodule: L.LightningDataModule = module.WeatherBench2DataModule(engine=\"kvikio\")\n",
    "datamodule.setup()\n",
    "train_dataloader = datamodule.train_dataloader()"
   ]
  },
  {
   "cell_type": "code",
   "execution_count": 5,
   "id": "f1209931-6bf7-4543-bc94-59e7382bb2ae",
   "metadata": {},
   "outputs": [
    {
     "data": {
      "application/vnd.jupyter.widget-view+json": {
       "model_id": "375fcb11738d4528ae53edb29451cc59",
       "version_major": 2,
       "version_minor": 0
      },
      "text/plain": [
       "  0%|          | 0/10 [00:00<?, ?it/s]"
      ]
     },
     "metadata": {},
     "output_type": "display_data"
    },
    {
     "data": {
      "application/vnd.jupyter.widget-view+json": {
       "model_id": "2352ab599366497292e5d1b894a51281",
       "version_major": 2,
       "version_minor": 0
      },
      "text/plain": [
       "  0%|          | 0/23 [00:00<?, ?it/s]"
      ]
     },
     "metadata": {},
     "output_type": "display_data"
    },
    {
     "data": {
      "application/vnd.jupyter.widget-view+json": {
       "model_id": "15ad8191ead24937ac85d770b73c7633",
       "version_major": 2,
       "version_minor": 0
      },
      "text/plain": [
       "  0%|          | 0/23 [00:00<?, ?it/s]"
      ]
     },
     "metadata": {},
     "output_type": "display_data"
    },
    {
     "data": {
      "application/vnd.jupyter.widget-view+json": {
       "model_id": "9c6c0f6e891f479787a7e09420d771c1",
       "version_major": 2,
       "version_minor": 0
      },
      "text/plain": [
       "  0%|          | 0/23 [00:00<?, ?it/s]"
      ]
     },
     "metadata": {},
     "output_type": "display_data"
    },
    {
     "data": {
      "application/vnd.jupyter.widget-view+json": {
       "model_id": "4434a7d73eb54cd4817adc1248e9c711",
       "version_major": 2,
       "version_minor": 0
      },
      "text/plain": [
       "  0%|          | 0/23 [00:00<?, ?it/s]"
      ]
     },
     "metadata": {},
     "output_type": "display_data"
    },
    {
     "data": {
      "application/vnd.jupyter.widget-view+json": {
       "model_id": "6598a5974fec44d9802dff5c13cb2e6d",
       "version_major": 2,
       "version_minor": 0
      },
      "text/plain": [
       "  0%|          | 0/23 [00:00<?, ?it/s]"
      ]
     },
     "metadata": {},
     "output_type": "display_data"
    },
    {
     "data": {
      "application/vnd.jupyter.widget-view+json": {
       "model_id": "6a6465b12679457ba09b6761ce2b983e",
       "version_major": 2,
       "version_minor": 0
      },
      "text/plain": [
       "  0%|          | 0/23 [00:00<?, ?it/s]"
      ]
     },
     "metadata": {},
     "output_type": "display_data"
    },
    {
     "data": {
      "application/vnd.jupyter.widget-view+json": {
       "model_id": "7d8fb9d3fb3146a18035a4041752d335",
       "version_major": 2,
       "version_minor": 0
      },
      "text/plain": [
       "  0%|          | 0/23 [00:00<?, ?it/s]"
      ]
     },
     "metadata": {},
     "output_type": "display_data"
    },
    {
     "data": {
      "application/vnd.jupyter.widget-view+json": {
       "model_id": "122dd90475f04e318f54a96cdd5a97bf",
       "version_major": 2,
       "version_minor": 0
      },
      "text/plain": [
       "  0%|          | 0/23 [00:00<?, ?it/s]"
      ]
     },
     "metadata": {},
     "output_type": "display_data"
    },
    {
     "data": {
      "application/vnd.jupyter.widget-view+json": {
       "model_id": "0051541caa3a49b899befd0587d933c4",
       "version_major": 2,
       "version_minor": 0
      },
      "text/plain": [
       "  0%|          | 0/23 [00:00<?, ?it/s]"
      ]
     },
     "metadata": {},
     "output_type": "display_data"
    },
    {
     "data": {
      "application/vnd.jupyter.widget-view+json": {
       "model_id": "4a4792893e44474bbccaeed4bcd8ad19",
       "version_major": 2,
       "version_minor": 0
      },
      "text/plain": [
       "  0%|          | 0/23 [00:00<?, ?it/s]"
      ]
     },
     "metadata": {},
     "output_type": "display_data"
    }
   ],
   "source": [
    "# Training loop\n",
    "epoch_timings: list[float] = training_loop(train_dataloader=train_dataloader)\n",
    "df[\"kvikio\"] = epoch_timings"
   ]
  },
  {
   "cell_type": "code",
   "execution_count": 6,
   "id": "eb6a1389-cd13-41cf-86c7-695255a0f82a",
   "metadata": {},
   "outputs": [
    {
     "name": "stdout",
     "output_type": "stream",
     "text": [
      "Total: 121.5782 seconds, Median: 11.8606 seconds/epoch, Mean: 12.1578 ± 0.8311 seconds/epoch\n"
     ]
    }
   ],
   "source": [
    "# Report timings\n",
    "total_time: float = df.kvikio.sum()\n",
    "median_time: float = df.kvikio.median()\n",
    "mean_time: float = df.kvikio.mean()\n",
    "std_time: float = df.kvikio.std()\n",
    "print(\n",
    "    f\"Total: {total_time:0.4f} seconds, \"\n",
    "    f\"Median: {median_time:0.4f} seconds/epoch, \"\n",
    "    f\"Mean: {mean_time:0.4f} ± {std_time:0.4f} seconds/epoch\"\n",
    ")"
   ]
  },
  {
   "cell_type": "code",
   "execution_count": null,
   "id": "03a6b722-1873-4a5b-a0bb-d231cbd86751",
   "metadata": {},
   "outputs": [],
   "source": []
  },
  {
   "cell_type": "markdown",
   "id": "4e42e8b1-6b68-4392-8cf7-a2b7db222280",
   "metadata": {},
   "source": [
    "## Zarr engine"
   ]
  },
  {
   "cell_type": "code",
   "execution_count": 7,
   "id": "0ee14720-6e3e-4f98-8499-558d5c12b54a",
   "metadata": {},
   "outputs": [
    {
     "name": "stdout",
     "output_type": "stream",
     "text": [
      "Loading data using zarr engine\n"
     ]
    }
   ],
   "source": [
    "# Setup data\n",
    "datamodule: L.LightningDataModule = module.WeatherBench2DataModule(engine=\"zarr\")\n",
    "datamodule.setup()\n",
    "train_dataloader = datamodule.train_dataloader()"
   ]
  },
  {
   "cell_type": "code",
   "execution_count": 8,
   "id": "b9b0efa9-b7e7-4817-9e6c-a16422424c69",
   "metadata": {},
   "outputs": [
    {
     "data": {
      "application/vnd.jupyter.widget-view+json": {
       "model_id": "3a6706c2b54e429da8366abe832363ad",
       "version_major": 2,
       "version_minor": 0
      },
      "text/plain": [
       "  0%|          | 0/10 [00:00<?, ?it/s]"
      ]
     },
     "metadata": {},
     "output_type": "display_data"
    },
    {
     "data": {
      "application/vnd.jupyter.widget-view+json": {
       "model_id": "9681e387d314430888bc874f3af9e51a",
       "version_major": 2,
       "version_minor": 0
      },
      "text/plain": [
       "  0%|          | 0/23 [00:00<?, ?it/s]"
      ]
     },
     "metadata": {},
     "output_type": "display_data"
    },
    {
     "data": {
      "application/vnd.jupyter.widget-view+json": {
       "model_id": "c1eece7b62f94b11b2e87bbf1e56dd17",
       "version_major": 2,
       "version_minor": 0
      },
      "text/plain": [
       "  0%|          | 0/23 [00:00<?, ?it/s]"
      ]
     },
     "metadata": {},
     "output_type": "display_data"
    },
    {
     "data": {
      "application/vnd.jupyter.widget-view+json": {
       "model_id": "307b0e0b5676442a9be53e8d037d70e9",
       "version_major": 2,
       "version_minor": 0
      },
      "text/plain": [
       "  0%|          | 0/23 [00:00<?, ?it/s]"
      ]
     },
     "metadata": {},
     "output_type": "display_data"
    },
    {
     "data": {
      "application/vnd.jupyter.widget-view+json": {
       "model_id": "e7ffad649cae4644a7871f1050923cfe",
       "version_major": 2,
       "version_minor": 0
      },
      "text/plain": [
       "  0%|          | 0/23 [00:00<?, ?it/s]"
      ]
     },
     "metadata": {},
     "output_type": "display_data"
    },
    {
     "data": {
      "application/vnd.jupyter.widget-view+json": {
       "model_id": "b6bef0db7fb7496cb60ab96577fd47e8",
       "version_major": 2,
       "version_minor": 0
      },
      "text/plain": [
       "  0%|          | 0/23 [00:00<?, ?it/s]"
      ]
     },
     "metadata": {},
     "output_type": "display_data"
    },
    {
     "data": {
      "application/vnd.jupyter.widget-view+json": {
       "model_id": "e682263f3742438cab56a3015fd9bf83",
       "version_major": 2,
       "version_minor": 0
      },
      "text/plain": [
       "  0%|          | 0/23 [00:00<?, ?it/s]"
      ]
     },
     "metadata": {},
     "output_type": "display_data"
    },
    {
     "data": {
      "application/vnd.jupyter.widget-view+json": {
       "model_id": "331ee74722504b66a3ca84a2356ab1a6",
       "version_major": 2,
       "version_minor": 0
      },
      "text/plain": [
       "  0%|          | 0/23 [00:00<?, ?it/s]"
      ]
     },
     "metadata": {},
     "output_type": "display_data"
    },
    {
     "data": {
      "application/vnd.jupyter.widget-view+json": {
       "model_id": "d4139c00f6de4cb899b5e990f6eb38ae",
       "version_major": 2,
       "version_minor": 0
      },
      "text/plain": [
       "  0%|          | 0/23 [00:00<?, ?it/s]"
      ]
     },
     "metadata": {},
     "output_type": "display_data"
    },
    {
     "data": {
      "application/vnd.jupyter.widget-view+json": {
       "model_id": "e39db6c413d24cd5bea9edd9ffc2f92e",
       "version_major": 2,
       "version_minor": 0
      },
      "text/plain": [
       "  0%|          | 0/23 [00:00<?, ?it/s]"
      ]
     },
     "metadata": {},
     "output_type": "display_data"
    },
    {
     "data": {
      "application/vnd.jupyter.widget-view+json": {
       "model_id": "88fbea224f1b4f369eab8bc2f8d0ccd6",
       "version_major": 2,
       "version_minor": 0
      },
      "text/plain": [
       "  0%|          | 0/23 [00:00<?, ?it/s]"
      ]
     },
     "metadata": {},
     "output_type": "display_data"
    }
   ],
   "source": [
    "# Training loop\n",
    "epoch_timings: list[float] = training_loop(train_dataloader=train_dataloader)\n",
    "df[\"zarr\"] = epoch_timings"
   ]
  },
  {
   "cell_type": "code",
   "execution_count": 9,
   "id": "10024607-209b-47e9-aa34-e264638add84",
   "metadata": {},
   "outputs": [
    {
     "name": "stdout",
     "output_type": "stream",
     "text": [
      "Total: 159.2952 seconds, Median: 16.0240 seconds/epoch, Mean: 15.9295 ± 0.3761 seconds/epoch\n"
     ]
    }
   ],
   "source": [
    "# Report timings\n",
    "total_time: float = df.zarr.sum()\n",
    "median_time: float = df.zarr.median()\n",
    "mean_time: float = df.zarr.mean()\n",
    "std_time: float = df.zarr.std()\n",
    "print(\n",
    "    f\"Total: {total_time:0.4f} seconds, \"\n",
    "    f\"Median: {median_time:0.4f} seconds/epoch, \"\n",
    "    f\"Mean: {mean_time:0.4f} ± {std_time:0.4f} seconds/epoch\"\n",
    ")"
   ]
  },
  {
   "cell_type": "code",
   "execution_count": null,
   "id": "1101537c-809c-4963-a5d5-301226a581c8",
   "metadata": {},
   "outputs": [],
   "source": []
  },
  {
   "cell_type": "markdown",
   "id": "5d14428e-eebc-49e8-877b-0e002a416dd4",
   "metadata": {},
   "source": [
    "## Summary results\n",
    "\n",
    "Show time difference of using GPUDirect Storage `kvikio` engine vs CPU-based `zarr` engine."
   ]
  },
  {
   "cell_type": "code",
   "execution_count": 10,
   "id": "ca1dcb1c-41a7-42d1-b6e3-c823f6febf57",
   "metadata": {},
   "outputs": [],
   "source": [
    "# kivkIO engine should take less time than Zarr engine\n",
    "assert df.kvikio.median() < df.zarr.median()"
   ]
  },
  {
   "cell_type": "code",
   "execution_count": 11,
   "id": "b10e6ce0-eaa5-4219-a7bd-dcc1d5bb34b0",
   "metadata": {},
   "outputs": [
    {
     "name": "stdout",
     "output_type": "stream",
     "text": [
      "kvikIO engine uses 25.98% less time than Zarr engine\n"
     ]
    }
   ],
   "source": [
    "time_diff: float = (df.zarr.median() - df.kvikio.median()) / df.zarr.median()\n",
    "print(f\"kvikIO engine uses {time_diff * 100:0.2f}% less time than Zarr engine\")"
   ]
  },
  {
   "cell_type": "code",
   "execution_count": 12,
   "id": "6cc383e1-a15e-46bf-8e0d-ce323206c5d7",
   "metadata": {},
   "outputs": [
    {
     "data": {
      "image/png": "[encoded data removed]",
      "text/plain": [
       "<Figure size 640x480 with 1 Axes>"
      ]
     },
     "metadata": {},
     "output_type": "display_data"
    }
   ],
   "source": [
    "sns.set_theme(context=\"talk\", palette=[\"#7400ff\", \"#e01073\"])\n",
    "ax = sns.barplot(data=df, estimator=\"median\")\n",
    "for container in ax.containers:\n",
    "    ax.bar_label(container=container, fontsize=11, fmt=\"%.1fs\", label_type=\"center\")\n",
    "ax.set_ylabel(ylabel=\"Median data load time per epoch\\n ◀ seconds, lower is better\")\n",
    "ax.set_xlabel(\n",
    "    xlabel=\"   (with GDS)            (without GDS) \\n\\n xarray backend engine\"\n",
    ")\n",
    "ax.set_title(label=\"Reading ERA5 data with/without GPUDirect Storage\")\n",
    "fig = ax.get_figure()\n",
    "fig.savefig(fname=\"figures/compare_kvikio_zarr.svg\", bbox_inches=\"tight\")"
   ]
  },
  {
   "cell_type": "code",
   "execution_count": null,
   "id": "e91222bf-8619-4388-9f7d-5cd9609849b0",
   "metadata": {},
   "outputs": [],
   "source": []
  }
 ],
 "metadata": {
  "kernelspec": {
   "display_name": "foss4g2023oceania",
   "language": "python",
   "name": "foss4g2023oceania"
  },
  "language_info": {
   "codemirror_mode": {
    "name": "ipython",
    "version": 3
   },
   "file_extension": ".py",
   "mimetype": "text/x-python",
   "name": "python",
   "nbconvert_exporter": "python",
   "pygments_lexer": "ipython3",
   "version": "3.10.12"
  }
 },
 "nbformat": 4,
 "nbformat_minor": 5
}
