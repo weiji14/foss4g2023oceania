{
 "cells": [
  {
   "cell_type": "markdown",
   "id": "89613f27-a847-4fbb-b3c1-d7dea25ecbd4",
   "metadata": {},
   "source": [
    "# Comparing data loading speeds with `kvikIO` and `Zarr` engine\n",
    "\n",
    "Benchmark details:\n",
    "- Loading a 1 year subset of the WeatherBench2 (~18.2GB)\n",
    "- Calculate median time to load entire dataset in 23 mini-batches (of batch size 32),\n",
    "  across 10 epochs."
   ]
  },
  {
   "cell_type": "code",
   "execution_count": 1,
   "id": "b553b3d2-71ac-44e7-b6e4-da564bfdaf5e",
   "metadata": {},
   "outputs": [],
   "source": [
    "import importlib\n",
    "import time\n",
    "\n",
    "import lightning as L\n",
    "import numpy as np\n",
    "import torch\n",
    "from tqdm.auto import tqdm, trange\n",
    "\n",
    "module = importlib.import_module(name=\"1_benchmark_kvikIOzarr\")"
   ]
  },
  {
   "cell_type": "code",
   "execution_count": 2,
   "id": "53799aa7-3da5-49d3-a152-cc07cf82fedd",
   "metadata": {},
   "outputs": [],
   "source": [
    "# Global variables\n",
    "time_dict: dict = {\"kvikio\": 0, \"zarr\": 0}"
   ]
  },
  {
   "cell_type": "code",
   "execution_count": 3,
   "id": "4b36c1a7-8dd3-439a-9689-533f1eaa5960",
   "metadata": {},
   "outputs": [],
   "source": [
    "# Training loop data loading function\n",
    "def training_loop(train_dataloader) -> list[float]:\n",
    "    epoch_timings: list = []\n",
    "    for epoch in trange(10):\n",
    "        # Start timing\n",
    "        tic: float = time.perf_counter()\n",
    "\n",
    "        # Mini-batch processing\n",
    "        for i, batch in tqdm(iterable=enumerate(train_dataloader), total=23):\n",
    "            input, target, metadata = batch\n",
    "            # Compute Mean Squared Error loss between t=0 and t=1, just for fun\n",
    "            loss: torch.Tensor = torch.functional.F.mse_loss(input=input, target=target)\n",
    "            # print(f\"Batch {i}, MSE Loss: {loss}\")\n",
    "\n",
    "        # Stop timing\n",
    "        toc: float = time.perf_counter()\n",
    "        epoch_timings.append(toc - tic)\n",
    "    return epoch_timings"
   ]
  },
  {
   "cell_type": "markdown",
   "id": "01793895-d093-4098-b793-fd333ed0e31c",
   "metadata": {},
   "source": [
    "## kvikIO engine"
   ]
  },
  {
   "cell_type": "code",
   "execution_count": 4,
   "id": "867ada60-17cf-4fec-84c3-55ef6a727f79",
   "metadata": {},
   "outputs": [
    {
     "name": "stdout",
     "output_type": "stream",
     "text": [
      "Loading data using kvikio engine\n"
     ]
    }
   ],
   "source": [
    "# Setup data\n",
    "datamodule: L.LightningDataModule = module.WeatherBench2DataModule(engine=\"kvikio\")\n",
    "datamodule.setup()\n",
    "train_dataloader = datamodule.train_dataloader()"
   ]
  },
  {
   "cell_type": "code",
   "execution_count": 5,
   "id": "7e0f00a0-8fba-48f5-af3a-8f3b30087e22",
   "metadata": {},
   "outputs": [
    {
     "data": {
      "application/vnd.jupyter.widget-view+json": {
       "model_id": "4d06e82827f844d69e2129d0ba77d64d",
       "version_major": 2,
       "version_minor": 0
      },
      "text/plain": [
       "  0%|          | 0/10 [00:00<?, ?it/s]"
      ]
     },
     "metadata": {},
     "output_type": "display_data"
    },
    {
     "data": {
      "application/vnd.jupyter.widget-view+json": {
       "model_id": "ed22f7ce83e74f099fea650611f2a5d8",
       "version_major": 2,
       "version_minor": 0
      },
      "text/plain": [
       "  0%|          | 0/23 [00:00<?, ?it/s]"
      ]
     },
     "metadata": {},
     "output_type": "display_data"
    },
    {
     "data": {
      "application/vnd.jupyter.widget-view+json": {
       "model_id": "efd2b732c95143939f6dcb434f42d2f7",
       "version_major": 2,
       "version_minor": 0
      },
      "text/plain": [
       "  0%|          | 0/23 [00:00<?, ?it/s]"
      ]
     },
     "metadata": {},
     "output_type": "display_data"
    },
    {
     "data": {
      "application/vnd.jupyter.widget-view+json": {
       "model_id": "7ae27823c34a4af78000fbe03780ceca",
       "version_major": 2,
       "version_minor": 0
      },
      "text/plain": [
       "  0%|          | 0/23 [00:00<?, ?it/s]"
      ]
     },
     "metadata": {},
     "output_type": "display_data"
    },
    {
     "data": {
      "application/vnd.jupyter.widget-view+json": {
       "model_id": "a5e3899c90ad4cbd989aac8be72be6f6",
       "version_major": 2,
       "version_minor": 0
      },
      "text/plain": [
       "  0%|          | 0/23 [00:00<?, ?it/s]"
      ]
     },
     "metadata": {},
     "output_type": "display_data"
    },
    {
     "data": {
      "application/vnd.jupyter.widget-view+json": {
       "model_id": "7c4ce3df2359425b910efb6f9fcc9188",
       "version_major": 2,
       "version_minor": 0
      },
      "text/plain": [
       "  0%|          | 0/23 [00:00<?, ?it/s]"
      ]
     },
     "metadata": {},
     "output_type": "display_data"
    },
    {
     "data": {
      "application/vnd.jupyter.widget-view+json": {
       "model_id": "5a8651f29e024b06a29ffef4f07a4fee",
       "version_major": 2,
       "version_minor": 0
      },
      "text/plain": [
       "  0%|          | 0/23 [00:00<?, ?it/s]"
      ]
     },
     "metadata": {},
     "output_type": "display_data"
    },
    {
     "data": {
      "application/vnd.jupyter.widget-view+json": {
       "model_id": "b923eb7759844c0f978edaaeedd986bb",
       "version_major": 2,
       "version_minor": 0
      },
      "text/plain": [
       "  0%|          | 0/23 [00:00<?, ?it/s]"
      ]
     },
     "metadata": {},
     "output_type": "display_data"
    },
    {
     "data": {
      "application/vnd.jupyter.widget-view+json": {
       "model_id": "ecd1ee7595424c759078b7efa6b0c0d7",
       "version_major": 2,
       "version_minor": 0
      },
      "text/plain": [
       "  0%|          | 0/23 [00:00<?, ?it/s]"
      ]
     },
     "metadata": {},
     "output_type": "display_data"
    },
    {
     "data": {
      "application/vnd.jupyter.widget-view+json": {
       "model_id": "43b2e938125e458eabca72e89ec57c5d",
       "version_major": 2,
       "version_minor": 0
      },
      "text/plain": [
       "  0%|          | 0/23 [00:00<?, ?it/s]"
      ]
     },
     "metadata": {},
     "output_type": "display_data"
    },
    {
     "data": {
      "application/vnd.jupyter.widget-view+json": {
       "model_id": "5c5d2727ed6e4093a8313080f07c66d4",
       "version_major": 2,
       "version_minor": 0
      },
      "text/plain": [
       "  0%|          | 0/23 [00:00<?, ?it/s]"
      ]
     },
     "metadata": {},
     "output_type": "display_data"
    },
    {
     "name": "stdout",
     "output_type": "stream",
     "text": [
      "Total: 113.9475 seconds, Median: 11.3795 seconds/epoch, Mean: 11.3948 ± 0.5356 seconds/epoch\n"
     ]
    }
   ],
   "source": [
    "# Training loop\n",
    "epoch_timings: list[float] = training_loop(train_dataloader=train_dataloader)\n",
    "\n",
    "# Report timings\n",
    "total_time: float = np.sum(a=epoch_timings)\n",
    "median_time: float = np.median(a=epoch_timings)\n",
    "mean_time: float = np.mean(a=epoch_timings)\n",
    "std_time: float = np.std(a=epoch_timings)\n",
    "print(\n",
    "    f\"Total: {total_time:0.4f} seconds, \"\n",
    "    f\"Median: {median_time:0.4f} seconds/epoch, \"\n",
    "    f\"Mean: {mean_time:0.4f} ± {std_time:0.4f} seconds/epoch\"\n",
    ")"
   ]
  },
  {
   "cell_type": "code",
   "execution_count": 6,
   "id": "331e5b0c-9522-43f9-8343-3739f7dfcf7b",
   "metadata": {},
   "outputs": [],
   "source": [
    "time_dict[\"kvikio\"] = median_time"
   ]
  },
  {
   "cell_type": "code",
   "execution_count": null,
   "id": "03a6b722-1873-4a5b-a0bb-d231cbd86751",
   "metadata": {},
   "outputs": [],
   "source": []
  },
  {
   "cell_type": "markdown",
   "id": "4e42e8b1-6b68-4392-8cf7-a2b7db222280",
   "metadata": {},
   "source": [
    "## Zarr engine"
   ]
  },
  {
   "cell_type": "code",
   "execution_count": 7,
   "id": "0ee14720-6e3e-4f98-8499-558d5c12b54a",
   "metadata": {},
   "outputs": [
    {
     "name": "stdout",
     "output_type": "stream",
     "text": [
      "Loading data using zarr engine\n"
     ]
    }
   ],
   "source": [
    "# Setup data\n",
    "datamodule: L.LightningDataModule = module.WeatherBench2DataModule(engine=\"zarr\")\n",
    "datamodule.setup()\n",
    "train_dataloader = datamodule.train_dataloader()"
   ]
  },
  {
   "cell_type": "code",
   "execution_count": 8,
   "id": "2079ff14-32ca-4db3-8569-00d21ab9cf0c",
   "metadata": {},
   "outputs": [
    {
     "data": {
      "application/vnd.jupyter.widget-view+json": {
       "model_id": "08e9c4d55e25461d8ea943ba1381bb21",
       "version_major": 2,
       "version_minor": 0
      },
      "text/plain": [
       "  0%|          | 0/10 [00:00<?, ?it/s]"
      ]
     },
     "metadata": {},
     "output_type": "display_data"
    },
    {
     "data": {
      "application/vnd.jupyter.widget-view+json": {
       "model_id": "b8721923bb5d469c9c796ee4a9ed8f92",
       "version_major": 2,
       "version_minor": 0
      },
      "text/plain": [
       "  0%|          | 0/23 [00:00<?, ?it/s]"
      ]
     },
     "metadata": {},
     "output_type": "display_data"
    },
    {
     "data": {
      "application/vnd.jupyter.widget-view+json": {
       "model_id": "a1b312ca47514e9887d02c9b5b593fcc",
       "version_major": 2,
       "version_minor": 0
      },
      "text/plain": [
       "  0%|          | 0/23 [00:00<?, ?it/s]"
      ]
     },
     "metadata": {},
     "output_type": "display_data"
    },
    {
     "data": {
      "application/vnd.jupyter.widget-view+json": {
       "model_id": "3eb5812fb2b74767911dc8883b12c91d",
       "version_major": 2,
       "version_minor": 0
      },
      "text/plain": [
       "  0%|          | 0/23 [00:00<?, ?it/s]"
      ]
     },
     "metadata": {},
     "output_type": "display_data"
    },
    {
     "data": {
      "application/vnd.jupyter.widget-view+json": {
       "model_id": "a801ad145c7244e7838f9e0bd584e11c",
       "version_major": 2,
       "version_minor": 0
      },
      "text/plain": [
       "  0%|          | 0/23 [00:00<?, ?it/s]"
      ]
     },
     "metadata": {},
     "output_type": "display_data"
    },
    {
     "data": {
      "application/vnd.jupyter.widget-view+json": {
       "model_id": "b4f9490a8bc545df89f842ac736e174b",
       "version_major": 2,
       "version_minor": 0
      },
      "text/plain": [
       "  0%|          | 0/23 [00:00<?, ?it/s]"
      ]
     },
     "metadata": {},
     "output_type": "display_data"
    },
    {
     "data": {
      "application/vnd.jupyter.widget-view+json": {
       "model_id": "c7a556b764d741bf9ed1a910cbdae4ba",
       "version_major": 2,
       "version_minor": 0
      },
      "text/plain": [
       "  0%|          | 0/23 [00:00<?, ?it/s]"
      ]
     },
     "metadata": {},
     "output_type": "display_data"
    },
    {
     "data": {
      "application/vnd.jupyter.widget-view+json": {
       "model_id": "9e8355f426c74a58a1ebba92ebc29905",
       "version_major": 2,
       "version_minor": 0
      },
      "text/plain": [
       "  0%|          | 0/23 [00:00<?, ?it/s]"
      ]
     },
     "metadata": {},
     "output_type": "display_data"
    },
    {
     "data": {
      "application/vnd.jupyter.widget-view+json": {
       "model_id": "77c9ed70fbc94af98033cc207ee34aab",
       "version_major": 2,
       "version_minor": 0
      },
      "text/plain": [
       "  0%|          | 0/23 [00:00<?, ?it/s]"
      ]
     },
     "metadata": {},
     "output_type": "display_data"
    },
    {
     "data": {
      "application/vnd.jupyter.widget-view+json": {
       "model_id": "9073f0a5176644e2b7a61b2447b91ef6",
       "version_major": 2,
       "version_minor": 0
      },
      "text/plain": [
       "  0%|          | 0/23 [00:00<?, ?it/s]"
      ]
     },
     "metadata": {},
     "output_type": "display_data"
    },
    {
     "data": {
      "application/vnd.jupyter.widget-view+json": {
       "model_id": "10b273d0a992490794b8b1c687ce93bd",
       "version_major": 2,
       "version_minor": 0
      },
      "text/plain": [
       "  0%|          | 0/23 [00:00<?, ?it/s]"
      ]
     },
     "metadata": {},
     "output_type": "display_data"
    },
    {
     "name": "stdout",
     "output_type": "stream",
     "text": [
      "Total: 136.7952 seconds, Median: 13.6663 seconds/epoch, Mean: 13.6795 ± 0.0845 seconds/epoch\n"
     ]
    }
   ],
   "source": [
    "# Training loop\n",
    "epoch_timings: list[float] = training_loop(train_dataloader=train_dataloader)\n",
    "\n",
    "# Report timings\n",
    "total_time: float = np.sum(a=epoch_timings)\n",
    "median_time: float = np.median(a=epoch_timings)\n",
    "mean_time: float = np.mean(a=epoch_timings)\n",
    "std_time: float = np.std(a=epoch_timings)\n",
    "print(\n",
    "    f\"Total: {total_time:0.4f} seconds, \"\n",
    "    f\"Median: {median_time:0.4f} seconds/epoch, \"\n",
    "    f\"Mean: {mean_time:0.4f} ± {std_time:0.4f} seconds/epoch\"\n",
    ")"
   ]
  },
  {
   "cell_type": "code",
   "execution_count": 9,
   "id": "7d388a02-79fc-498e-afc8-418083d26307",
   "metadata": {},
   "outputs": [],
   "source": [
    "time_dict[\"zarr\"] = median_time"
   ]
  },
  {
   "cell_type": "code",
   "execution_count": null,
   "id": "1101537c-809c-4963-a5d5-301226a581c8",
   "metadata": {},
   "outputs": [],
   "source": []
  },
  {
   "cell_type": "markdown",
   "id": "5d14428e-eebc-49e8-877b-0e002a416dd4",
   "metadata": {},
   "source": [
    "## Summary results"
   ]
  },
  {
   "cell_type": "code",
   "execution_count": 10,
   "id": "ca1dcb1c-41a7-42d1-b6e3-c823f6febf57",
   "metadata": {},
   "outputs": [],
   "source": [
    "# kivkIO engine should take less time than Zarr engine\n",
    "assert time_dict[\"kvikio\"] < time_dict[\"zarr\"]"
   ]
  },
  {
   "cell_type": "code",
   "execution_count": 11,
   "id": "b10e6ce0-eaa5-4219-a7bd-dcc1d5bb34b0",
   "metadata": {},
   "outputs": [
    {
     "name": "stdout",
     "output_type": "stream",
     "text": [
      "kvikIO engine is 20.10% faster than Zarr engine\n"
     ]
    }
   ],
   "source": [
    "speedup: float = (time_dict[\"zarr\"] - time_dict[\"kvikio\"]) / time_dict[\"kvikio\"]\n",
    "print(f\"kvikIO engine is {speedup * 100:0.2f}% faster than Zarr engine\")"
   ]
  },
  {
   "cell_type": "code",
   "execution_count": null,
   "id": "78bec1c0-5fcd-4744-99ab-d34884784075",
   "metadata": {},
   "outputs": [],
   "source": []
  }
 ],
 "metadata": {
  "kernelspec": {
   "display_name": "foss4g2023oceania",
   "language": "python",
   "name": "foss4g2023oceania"
  },
  "language_info": {
   "codemirror_mode": {
    "name": "ipython",
    "version": 3
   },
   "file_extension": ".py",
   "mimetype": "text/x-python",
   "name": "python",
   "nbconvert_exporter": "python",
   "pygments_lexer": "ipython3",
   "version": "3.10.12"
  }
 },
 "nbformat": 4,
 "nbformat_minor": 5
}
