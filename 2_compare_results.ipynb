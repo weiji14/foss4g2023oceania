{
 "cells": [
  {
   "cell_type": "markdown",
   "id": "89613f27-a847-4fbb-b3c1-d7dea25ecbd4",
   "metadata": {},
   "source": [
    "# Comparing data loading speeds with `kvikIO` and `Zarr` engine\n",
    "\n",
    "Benchmark details:\n",
    "- Loading a 1 year subset of the WeatherBench2 (~18.2GB)\n",
    "- Calculate median time to load entire dataset in 23 mini-batches (of batch size 32),\n",
    "  across 10 epochs."
   ]
  },
  {
   "cell_type": "code",
   "execution_count": 1,
   "id": "b553b3d2-71ac-44e7-b6e4-da564bfdaf5e",
   "metadata": {},
   "outputs": [],
   "source": [
    "import importlib\n",
    "import time\n",
    "\n",
    "import lightning as L\n",
    "import numpy as np\n",
    "import pandas as pd\n",
    "import seaborn as sns\n",
    "import torch\n",
    "from tqdm.auto import tqdm, trange\n",
    "\n",
    "module = importlib.import_module(name=\"1_benchmark_kvikIOzarr\")"
   ]
  },
  {
   "cell_type": "code",
   "execution_count": 2,
   "id": "53799aa7-3da5-49d3-a152-cc07cf82fedd",
   "metadata": {},
   "outputs": [],
   "source": [
    "# Empty dataframe to store results\n",
    "df = pd.DataFrame()\n",
    "# Optimize torch performance\n",
    "torch.set_float32_matmul_precision(precision=\"medium\")"
   ]
  },
  {
   "cell_type": "code",
   "execution_count": 3,
   "id": "4b36c1a7-8dd3-439a-9689-533f1eaa5960",
   "metadata": {},
   "outputs": [],
   "source": [
    "# Training loop data loading function\n",
    "def training_loop(train_dataloader) -> list[float]:\n",
    "    epoch_timings: list = []\n",
    "    for epoch in trange(10):\n",
    "        # Start timing\n",
    "        tic: float = time.perf_counter()\n",
    "\n",
    "        # Mini-batch processing\n",
    "        for i, batch in tqdm(iterable=enumerate(train_dataloader), total=23):\n",
    "            input, target, metadata = batch\n",
    "            # Compute Mean Squared Error loss between t=0 and t=1, just for fun\n",
    "            loss: torch.Tensor = torch.functional.F.mse_loss(input=input, target=target)\n",
    "            # print(f\"Batch {i}, MSE Loss: {loss}\")\n",
    "\n",
    "        # Stop timing\n",
    "        toc: float = time.perf_counter()\n",
    "        epoch_timings.append(toc - tic)\n",
    "    return epoch_timings"
   ]
  },
  {
   "cell_type": "markdown",
   "id": "01793895-d093-4098-b793-fd333ed0e31c",
   "metadata": {},
   "source": [
    "## kvikIO engine"
   ]
  },
  {
   "cell_type": "code",
   "execution_count": 4,
   "id": "867ada60-17cf-4fec-84c3-55ef6a727f79",
   "metadata": {},
   "outputs": [
    {
     "name": "stdout",
     "output_type": "stream",
     "text": [
      "Loading data using kvikio engine\n"
     ]
    }
   ],
   "source": [
    "# Setup data\n",
    "datamodule: L.LightningDataModule = module.WeatherBench2DataModule(engine=\"kvikio\")\n",
    "datamodule.setup()\n",
    "train_dataloader = datamodule.train_dataloader()"
   ]
  },
  {
   "cell_type": "code",
   "execution_count": 5,
   "id": "f1209931-6bf7-4543-bc94-59e7382bb2ae",
   "metadata": {},
   "outputs": [
    {
     "data": {
      "application/vnd.jupyter.widget-view+json": {
       "model_id": "3f634d915b2a4086888a616c3f6179b2",
       "version_major": 2,
       "version_minor": 0
      },
      "text/plain": [
       "  0%|          | 0/10 [00:00<?, ?it/s]"
      ]
     },
     "metadata": {},
     "output_type": "display_data"
    },
    {
     "data": {
      "application/vnd.jupyter.widget-view+json": {
       "model_id": "9f951945840f4ba2b9686ab9aebf6c37",
       "version_major": 2,
       "version_minor": 0
      },
      "text/plain": [
       "  0%|          | 0/23 [00:00<?, ?it/s]"
      ]
     },
     "metadata": {},
     "output_type": "display_data"
    },
    {
     "data": {
      "application/vnd.jupyter.widget-view+json": {
       "model_id": "114b4087f41a48a2b44d2a1af2b4ed62",
       "version_major": 2,
       "version_minor": 0
      },
      "text/plain": [
       "  0%|          | 0/23 [00:00<?, ?it/s]"
      ]
     },
     "metadata": {},
     "output_type": "display_data"
    },
    {
     "data": {
      "application/vnd.jupyter.widget-view+json": {
       "model_id": "b2a1dd9ec74446e99e28f8293acf1b57",
       "version_major": 2,
       "version_minor": 0
      },
      "text/plain": [
       "  0%|          | 0/23 [00:00<?, ?it/s]"
      ]
     },
     "metadata": {},
     "output_type": "display_data"
    },
    {
     "data": {
      "application/vnd.jupyter.widget-view+json": {
       "model_id": "563bb8b690a94a9c82f8b4a6904a5ec5",
       "version_major": 2,
       "version_minor": 0
      },
      "text/plain": [
       "  0%|          | 0/23 [00:00<?, ?it/s]"
      ]
     },
     "metadata": {},
     "output_type": "display_data"
    },
    {
     "data": {
      "application/vnd.jupyter.widget-view+json": {
       "model_id": "d6185399c06740ddbc81bd79e73f9d98",
       "version_major": 2,
       "version_minor": 0
      },
      "text/plain": [
       "  0%|          | 0/23 [00:00<?, ?it/s]"
      ]
     },
     "metadata": {},
     "output_type": "display_data"
    },
    {
     "data": {
      "application/vnd.jupyter.widget-view+json": {
       "model_id": "26f80ff083fc4701b98ee7d7465c3558",
       "version_major": 2,
       "version_minor": 0
      },
      "text/plain": [
       "  0%|          | 0/23 [00:00<?, ?it/s]"
      ]
     },
     "metadata": {},
     "output_type": "display_data"
    },
    {
     "data": {
      "application/vnd.jupyter.widget-view+json": {
       "model_id": "3e6c03fa400f470986318eeb318653ee",
       "version_major": 2,
       "version_minor": 0
      },
      "text/plain": [
       "  0%|          | 0/23 [00:00<?, ?it/s]"
      ]
     },
     "metadata": {},
     "output_type": "display_data"
    },
    {
     "data": {
      "application/vnd.jupyter.widget-view+json": {
       "model_id": "0dec5d13e9fa4f7996f49fa454a4a342",
       "version_major": 2,
       "version_minor": 0
      },
      "text/plain": [
       "  0%|          | 0/23 [00:00<?, ?it/s]"
      ]
     },
     "metadata": {},
     "output_type": "display_data"
    },
    {
     "data": {
      "application/vnd.jupyter.widget-view+json": {
       "model_id": "6b3d8c57b20445f8a10deb5d6c8db45e",
       "version_major": 2,
       "version_minor": 0
      },
      "text/plain": [
       "  0%|          | 0/23 [00:00<?, ?it/s]"
      ]
     },
     "metadata": {},
     "output_type": "display_data"
    },
    {
     "data": {
      "application/vnd.jupyter.widget-view+json": {
       "model_id": "bdc848196af64949917c6be92011d5f2",
       "version_major": 2,
       "version_minor": 0
      },
      "text/plain": [
       "  0%|          | 0/23 [00:00<?, ?it/s]"
      ]
     },
     "metadata": {},
     "output_type": "display_data"
    }
   ],
   "source": [
    "# Training loop\n",
    "epoch_timings: list[float] = training_loop(train_dataloader=train_dataloader)\n",
    "df[\"kvikio\"] = epoch_timings"
   ]
  },
  {
   "cell_type": "code",
   "execution_count": 6,
   "id": "eb6a1389-cd13-41cf-86c7-695255a0f82a",
   "metadata": {},
   "outputs": [
    {
     "name": "stdout",
     "output_type": "stream",
     "text": [
      "Total: 110.6690 seconds, Median: 11.0126 seconds/epoch, Mean: 11.0669 ± 0.4018 seconds/epoch\n"
     ]
    }
   ],
   "source": [
    "# Report timings\n",
    "total_time: float = df.kvikio.sum()\n",
    "median_time: float = df.kvikio.median()\n",
    "mean_time: float = df.kvikio.mean()\n",
    "std_time: float = df.kvikio.std()\n",
    "print(\n",
    "    f\"Total: {total_time:0.4f} seconds, \"\n",
    "    f\"Median: {median_time:0.4f} seconds/epoch, \"\n",
    "    f\"Mean: {mean_time:0.4f} ± {std_time:0.4f} seconds/epoch\"\n",
    ")"
   ]
  },
  {
   "cell_type": "code",
   "execution_count": null,
   "id": "03a6b722-1873-4a5b-a0bb-d231cbd86751",
   "metadata": {},
   "outputs": [],
   "source": []
  },
  {
   "cell_type": "markdown",
   "id": "4e42e8b1-6b68-4392-8cf7-a2b7db222280",
   "metadata": {},
   "source": [
    "## Zarr engine"
   ]
  },
  {
   "cell_type": "code",
   "execution_count": 7,
   "id": "0ee14720-6e3e-4f98-8499-558d5c12b54a",
   "metadata": {},
   "outputs": [
    {
     "name": "stdout",
     "output_type": "stream",
     "text": [
      "Loading data using zarr engine\n"
     ]
    }
   ],
   "source": [
    "# Setup data\n",
    "datamodule: L.LightningDataModule = module.WeatherBench2DataModule(engine=\"zarr\")\n",
    "datamodule.setup()\n",
    "train_dataloader = datamodule.train_dataloader()"
   ]
  },
  {
   "cell_type": "code",
   "execution_count": 8,
   "id": "b9b0efa9-b7e7-4817-9e6c-a16422424c69",
   "metadata": {},
   "outputs": [
    {
     "data": {
      "application/vnd.jupyter.widget-view+json": {
       "model_id": "580d666e7aa84df6981e22d6d065ad4a",
       "version_major": 2,
       "version_minor": 0
      },
      "text/plain": [
       "  0%|          | 0/10 [00:00<?, ?it/s]"
      ]
     },
     "metadata": {},
     "output_type": "display_data"
    },
    {
     "data": {
      "application/vnd.jupyter.widget-view+json": {
       "model_id": "0c1d30b10bde4fa99561598796652561",
       "version_major": 2,
       "version_minor": 0
      },
      "text/plain": [
       "  0%|          | 0/23 [00:00<?, ?it/s]"
      ]
     },
     "metadata": {},
     "output_type": "display_data"
    },
    {
     "data": {
      "application/vnd.jupyter.widget-view+json": {
       "model_id": "fa2800878d4d4d87b406ab44ae8c24c6",
       "version_major": 2,
       "version_minor": 0
      },
      "text/plain": [
       "  0%|          | 0/23 [00:00<?, ?it/s]"
      ]
     },
     "metadata": {},
     "output_type": "display_data"
    },
    {
     "data": {
      "application/vnd.jupyter.widget-view+json": {
       "model_id": "59cfe972a3174787b662788db7b16f55",
       "version_major": 2,
       "version_minor": 0
      },
      "text/plain": [
       "  0%|          | 0/23 [00:00<?, ?it/s]"
      ]
     },
     "metadata": {},
     "output_type": "display_data"
    },
    {
     "data": {
      "application/vnd.jupyter.widget-view+json": {
       "model_id": "b958e211b7034fe58b4154000b8993aa",
       "version_major": 2,
       "version_minor": 0
      },
      "text/plain": [
       "  0%|          | 0/23 [00:00<?, ?it/s]"
      ]
     },
     "metadata": {},
     "output_type": "display_data"
    },
    {
     "data": {
      "application/vnd.jupyter.widget-view+json": {
       "model_id": "1e3ae664d2e84288a58a2e0908fe67e0",
       "version_major": 2,
       "version_minor": 0
      },
      "text/plain": [
       "  0%|          | 0/23 [00:00<?, ?it/s]"
      ]
     },
     "metadata": {},
     "output_type": "display_data"
    },
    {
     "data": {
      "application/vnd.jupyter.widget-view+json": {
       "model_id": "ceccc74268104cd58097ac826aa3d47c",
       "version_major": 2,
       "version_minor": 0
      },
      "text/plain": [
       "  0%|          | 0/23 [00:00<?, ?it/s]"
      ]
     },
     "metadata": {},
     "output_type": "display_data"
    },
    {
     "data": {
      "application/vnd.jupyter.widget-view+json": {
       "model_id": "15e17009bc40448497dcd9b1dbefd206",
       "version_major": 2,
       "version_minor": 0
      },
      "text/plain": [
       "  0%|          | 0/23 [00:00<?, ?it/s]"
      ]
     },
     "metadata": {},
     "output_type": "display_data"
    },
    {
     "data": {
      "application/vnd.jupyter.widget-view+json": {
       "model_id": "262b8280c51a4d1897103347ad0c7a4e",
       "version_major": 2,
       "version_minor": 0
      },
      "text/plain": [
       "  0%|          | 0/23 [00:00<?, ?it/s]"
      ]
     },
     "metadata": {},
     "output_type": "display_data"
    },
    {
     "data": {
      "application/vnd.jupyter.widget-view+json": {
       "model_id": "3e760153ebe644bfafa0b3cef750bb28",
       "version_major": 2,
       "version_minor": 0
      },
      "text/plain": [
       "  0%|          | 0/23 [00:00<?, ?it/s]"
      ]
     },
     "metadata": {},
     "output_type": "display_data"
    },
    {
     "data": {
      "application/vnd.jupyter.widget-view+json": {
       "model_id": "c3a575fb32a24751b7c5c3fa3194de7d",
       "version_major": 2,
       "version_minor": 0
      },
      "text/plain": [
       "  0%|          | 0/23 [00:00<?, ?it/s]"
      ]
     },
     "metadata": {},
     "output_type": "display_data"
    }
   ],
   "source": [
    "# Training loop\n",
    "epoch_timings: list[float] = training_loop(train_dataloader=train_dataloader)\n",
    "df[\"zarr\"] = epoch_timings"
   ]
  },
  {
   "cell_type": "code",
   "execution_count": 9,
   "id": "10024607-209b-47e9-aa34-e264638add84",
   "metadata": {},
   "outputs": [
    {
     "name": "stdout",
     "output_type": "stream",
     "text": [
      "Total: 136.6378 seconds, Median: 13.6550 seconds/epoch, Mean: 13.6638 ± 0.1524 seconds/epoch\n"
     ]
    }
   ],
   "source": [
    "# Report timings\n",
    "total_time: float = df.zarr.sum()\n",
    "median_time: float = df.zarr.median()\n",
    "mean_time: float = df.zarr.mean()\n",
    "std_time: float = df.zarr.std()\n",
    "print(\n",
    "    f\"Total: {total_time:0.4f} seconds, \"\n",
    "    f\"Median: {median_time:0.4f} seconds/epoch, \"\n",
    "    f\"Mean: {mean_time:0.4f} ± {std_time:0.4f} seconds/epoch\"\n",
    ")"
   ]
  },
  {
   "cell_type": "code",
   "execution_count": null,
   "id": "1101537c-809c-4963-a5d5-301226a581c8",
   "metadata": {},
   "outputs": [],
   "source": []
  },
  {
   "cell_type": "markdown",
   "id": "5d14428e-eebc-49e8-877b-0e002a416dd4",
   "metadata": {},
   "source": [
    "## Summary results\n",
    "\n",
    "Show speedup of using GPUDirect Storage `kvikio` engine vs CPU-based `zarr` engine."
   ]
  },
  {
   "cell_type": "code",
   "execution_count": 10,
   "id": "ca1dcb1c-41a7-42d1-b6e3-c823f6febf57",
   "metadata": {},
   "outputs": [],
   "source": [
    "# kivkIO engine should take less time than Zarr engine\n",
    "assert df.kvikio.median() < df.zarr.median()"
   ]
  },
  {
   "cell_type": "code",
   "execution_count": 11,
   "id": "b10e6ce0-eaa5-4219-a7bd-dcc1d5bb34b0",
   "metadata": {},
   "outputs": [
    {
     "name": "stdout",
     "output_type": "stream",
     "text": [
      "kvikIO engine is 24.00% faster than Zarr engine\n"
     ]
    }
   ],
   "source": [
    "speedup: float = (df.zarr.median() - df.kvikio.median()) / df.kvikio.median()\n",
    "print(f\"kvikIO engine is {speedup * 100:0.2f}% faster than Zarr engine\")"
   ]
  },
  {
   "cell_type": "code",
   "execution_count": 12,
   "id": "6cc383e1-a15e-46bf-8e0d-ce323206c5d7",
   "metadata": {},
   "outputs": [
    {
     "data": {
      "image/png": "[encoded data removed]",
      "text/plain": [
       "<Figure size 640x480 with 1 Axes>"
      ]
     },
     "metadata": {},
     "output_type": "display_data"
    }
   ],
   "source": [
    "sns.set_theme(context=\"talk\", palette=[\"#7400ff\", \"#e01073\"])\n",
    "ax = sns.barplot(data=df)\n",
    "for container in ax.containers:\n",
    "    ax.bar_label(container=container, fontsize=11, fmt=\"%.1fs\", label_type=\"center\")\n",
    "ax.set_ylabel(ylabel=\"Data load time per epoch\\n ◀ seconds, lower is better\")\n",
    "ax.set_xlabel(\n",
    "    xlabel=\"   (with GDS)            (without GDS) \\n\\n xarray backend engine\"\n",
    ")\n",
    "ax.set_title(label=\"Reading ERA5 data with/without GPUDirect Storage\")\n",
    "fig = ax.get_figure()\n",
    "fig.savefig(fname=\"figures/compare_kvikio_zarr.svg\", bbox_inches=\"tight\")"
   ]
  },
  {
   "cell_type": "code",
   "execution_count": null,
   "id": "e91222bf-8619-4388-9f7d-5cd9609849b0",
   "metadata": {},
   "outputs": [],
   "source": []
  }
 ],
 "metadata": {
  "kernelspec": {
   "display_name": "foss4g2023oceania",
   "language": "python",
   "name": "foss4g2023oceania"
  },
  "language_info": {
   "codemirror_mode": {
    "name": "ipython",
    "version": 3
   },
   "file_extension": ".py",
   "mimetype": "text/x-python",
   "name": "python",
   "nbconvert_exporter": "python",
   "pygments_lexer": "ipython3",
   "version": "3.10.12"
  }
 },
 "nbformat": 4,
 "nbformat_minor": 5
}
